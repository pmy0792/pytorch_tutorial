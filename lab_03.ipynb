{
  "nbformat": 4,
  "nbformat_minor": 0,
  "metadata": {
    "colab": {
      "name": "lab-03.ipynb",
      "provenance": [],
      "authorship_tag": "ABX9TyPrYvvrpP5FeN2oM4cpnaWJ",
      "include_colab_link": true
    },
    "kernelspec": {
      "name": "python3",
      "display_name": "Python 3"
    },
    "language_info": {
      "name": "python"
    }
  },
  "cells": [
    {
      "cell_type": "markdown",
      "metadata": {
        "id": "view-in-github",
        "colab_type": "text"
      },
      "source": [
        "<a href=\"https://colab.research.google.com/github/pmy0792/pytorch_tutorial/blob/main/lab_03.ipynb\" target=\"_parent\"><img src=\"https://colab.research.google.com/assets/colab-badge.svg\" alt=\"Open In Colab\"/></a>"
      ]
    },
    {
      "cell_type": "code",
      "execution_count": 1,
      "metadata": {
        "id": "rcGkc-sDCBnH"
      },
      "outputs": [],
      "source": [
        "import torch\n",
        "from torch import optim"
      ]
    },
    {
      "cell_type": "code",
      "source": [
        "x_train=torch.FloatTensor([[1],[2],[3]])\n",
        "y_train=torch.FloatTensor([[1],[2],[3]])\n",
        "\n",
        "W=torch.zeros(1, requires_grad=True)\n",
        "#b=torch.zeros(1, requires_grad=True)\n",
        "hypothesis = x_train * W"
      ],
      "metadata": {
        "id": "IOHNf8ppCK6S"
      },
      "execution_count": 3,
      "outputs": []
    },
    {
      "cell_type": "code",
      "source": [
        "gradient = 2 * torch.mean((W*x_train - y_train) * x_train)\n",
        "lr=0.1\n",
        "W = W -lr*gradient"
      ],
      "metadata": {
        "id": "O01WNg2G2aNv"
      },
      "execution_count": 5,
      "outputs": []
    },
    {
      "cell_type": "code",
      "source": [
        "# 데이터\n",
        "x_train=torch.FloatTensor([[1],[2],[3]])\n",
        "y_train=torch.FloatTensor([[1],[2],[3]])\n",
        "\n",
        "# 모델 초기화\n",
        "W=torch.zeros(1)\n",
        "\n",
        "# Learning rate 설정\n",
        "lr=0.1\n",
        "\n",
        "nb_epochs=10\n",
        "for epoch in range(nb_epochs +1):\n",
        "  \n",
        "  # H(x) 계산\n",
        "  hypothesis=x_train*W\n",
        "\n",
        "  # cost gradient 계산\n",
        "  cost = torch.mean((hypothesis - y_train)**2)\n",
        "  gradient=torch.sum((W*x_train-y_train)*x_train)\n",
        "\n",
        "  print('Epoch {:4d}/{} W: {:.3f}, Cost: {:.6f}'.format(\n",
        "      epoch,nb_epochs, W.item(), cost.item()\n",
        "  ))\n",
        "\n",
        "  # cost gradient로 H(x) 계산\n",
        "  W -= lr * gradient\n"
      ],
      "metadata": {
        "colab": {
          "base_uri": "https://localhost:8080/"
        },
        "id": "tIUFp0vI3PON",
        "outputId": "296b2797-fb4b-4baa-d2d6-917daab1cad3"
      },
      "execution_count": 7,
      "outputs": [
        {
          "output_type": "stream",
          "name": "stdout",
          "text": [
            "Epoch    0/10 W: 0.000, Cost: 4.666667\n",
            "Epoch    1/10 W: 1.400, Cost: 0.746666\n",
            "Epoch    2/10 W: 0.840, Cost: 0.119467\n",
            "Epoch    3/10 W: 1.064, Cost: 0.019115\n",
            "Epoch    4/10 W: 0.974, Cost: 0.003058\n",
            "Epoch    5/10 W: 1.010, Cost: 0.000489\n",
            "Epoch    6/10 W: 0.996, Cost: 0.000078\n",
            "Epoch    7/10 W: 1.002, Cost: 0.000013\n",
            "Epoch    8/10 W: 0.999, Cost: 0.000002\n",
            "Epoch    9/10 W: 1.000, Cost: 0.000000\n",
            "Epoch   10/10 W: 1.000, Cost: 0.000000\n"
          ]
        }
      ]
    },
    {
      "cell_type": "markdown",
      "source": [
        "### **Gradient Descent with torch.optim**"
      ],
      "metadata": {
        "id": "e8RyrK4Y6dcF"
      }
    },
    {
      "cell_type": "code",
      "source": [
        "# optimizer 설정\n",
        "optimizer = optim.SGD([W],lr=0.15)\n",
        "\n",
        "# cost로 H(x) 개선\n",
        "optimizer.zero_grad() #gradient를 0으로 초기화\n",
        "cost.backward() #gradient 계산\n",
        "optimizer.step() #gradient descent"
      ],
      "metadata": {
        "id": "oNcUf1NP5YR8"
      },
      "execution_count": null,
      "outputs": []
    },
    {
      "cell_type": "code",
      "source": [
        "# 데이터\n",
        "x_train=torch.FloatTensor([[1],[2],[3]])\n",
        "y_train=torch.FloatTensor([[1],[2],[3]])\n",
        "\n",
        "# 모델 초기화\n",
        "W=torch.zeros(1, requires_grad = True)\n",
        "\n",
        "# optimizer 설정\n",
        "optimizer=optim.SGD([W], lr= 0.15)\n",
        "\n",
        "nb_epochs=10\n",
        "for epoch in range(nb_epochs +1):\n",
        "  \n",
        "  # H(x) 계산\n",
        "  hypothesis=x_train*W\n",
        "\n",
        "  # cost gradient 계산\n",
        "  cost = torch.mean((hypothesis - y_train)**2)\n",
        "\n",
        "  print('Epoch {:4d}/{} W: {:.3f}, Cost: {:.6f}'.format(\n",
        "      epoch,nb_epochs, W.item(), cost.item()\n",
        "  ))\n",
        "\n",
        "  # cost로 H(x) 계산\n",
        "  optimizer.zero_grad()\n",
        "  cost.backward()\n",
        "  optimizer.step()"
      ],
      "metadata": {
        "colab": {
          "base_uri": "https://localhost:8080/"
        },
        "id": "BS5YyJpz6q4b",
        "outputId": "0aae4cc9-c4c1-49c1-b27d-6e775a99721d"
      },
      "execution_count": 9,
      "outputs": [
        {
          "output_type": "stream",
          "name": "stdout",
          "text": [
            "Epoch    0/10 W: 0.000, Cost: 4.666667\n",
            "Epoch    1/10 W: 1.400, Cost: 0.746667\n",
            "Epoch    2/10 W: 0.840, Cost: 0.119467\n",
            "Epoch    3/10 W: 1.064, Cost: 0.019115\n",
            "Epoch    4/10 W: 0.974, Cost: 0.003058\n",
            "Epoch    5/10 W: 1.010, Cost: 0.000489\n",
            "Epoch    6/10 W: 0.996, Cost: 0.000078\n",
            "Epoch    7/10 W: 1.002, Cost: 0.000013\n",
            "Epoch    8/10 W: 0.999, Cost: 0.000002\n",
            "Epoch    9/10 W: 1.000, Cost: 0.000000\n",
            "Epoch   10/10 W: 1.000, Cost: 0.000000\n"
          ]
        }
      ]
    }
  ]
}