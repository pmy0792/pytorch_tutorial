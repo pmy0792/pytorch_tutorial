{
  "nbformat": 4,
  "nbformat_minor": 0,
  "metadata": {
    "colab": {
      "name": "lab-07.ipynb",
      "provenance": [],
      "authorship_tag": "ABX9TyNJ/bpdL1L6igfauhD6LZ6T",
      "include_colab_link": true
    },
    "kernelspec": {
      "name": "python3",
      "display_name": "Python 3"
    },
    "language_info": {
      "name": "python"
    }
  },
  "cells": [
    {
      "cell_type": "markdown",
      "metadata": {
        "id": "view-in-github",
        "colab_type": "text"
      },
      "source": [
        "<a href=\"https://colab.research.google.com/github/pmy0792/pytorch_tutorial/blob/main/lab_07_1.ipynb\" target=\"_parent\"><img src=\"https://colab.research.google.com/assets/colab-badge.svg\" alt=\"Open In Colab\"/></a>"
      ]
    },
    {
      "cell_type": "markdown",
      "source": [
        "Maximum Likelihood Estimation(MLE) : observation을 가장 잘 설명하는 θ를 찾아내는 과정"
      ],
      "metadata": {
        "id": "LQtZRAAdxcK2"
      }
    },
    {
      "cell_type": "markdown",
      "source": [
        "Overfitting 방지법\n",
        "- More data\n",
        "- Less features\n",
        "- Regularization"
      ],
      "metadata": {
        "id": "X-9SUx3Y0cHO"
      }
    },
    {
      "cell_type": "markdown",
      "source": [
        "**Regularization**\n",
        "- Early Stopping: validation loss가 더이상 낮아지지 않을 때\n",
        "- Reducing Network Size\n",
        "- Weight Decay: NN의 파라미터 크기 제한\n",
        "- Dropout\n",
        "- Batch Normalization"
      ],
      "metadata": {
        "id": "ZkiTkkoc0hHn"
      }
    },
    {
      "cell_type": "code",
      "source": [
        "import torch\n",
        "import torch.nn as nn\n",
        "import torch.nn.functional as F\n",
        "import torch.optim as optim"
      ],
      "metadata": {
        "id": "JMyOV9P9xqoe"
      },
      "execution_count": 35,
      "outputs": []
    },
    {
      "cell_type": "code",
      "source": [
        "torch.manual_seed(1)"
      ],
      "metadata": {
        "colab": {
          "base_uri": "https://localhost:8080/"
        },
        "id": "mlRrLrGt1TR3",
        "outputId": "e7d9dec3-5ed6-488f-8fbe-df85e40a7be4"
      },
      "execution_count": 36,
      "outputs": [
        {
          "output_type": "execute_result",
          "data": {
            "text/plain": [
              "<torch._C.Generator at 0x7fdb98366250>"
            ]
          },
          "metadata": {},
          "execution_count": 36
        }
      ]
    },
    {
      "cell_type": "code",
      "source": [
        "x_train=torch.FloatTensor([[1,2,1], # |x_train| = (m,3)\n",
        "                           [1,3,2],\n",
        "                           [1,3,4],\n",
        "                           [1,5,5],\n",
        "                           [1,7,5],\n",
        "                           [1,2,5],\n",
        "                           [1,6,6],\n",
        "                           [1,7,7]])\n",
        "\n",
        "y_train=torch.LongTensor([2,2,2,1,1,1,0,0]) # |y_train| = (m,)"
      ],
      "metadata": {
        "id": "m7tJVR8C1ewj"
      },
      "execution_count": 37,
      "outputs": []
    },
    {
      "cell_type": "code",
      "source": [
        "x_test=torch.FloatTensor([[2,1,1], # |x_test| = (m', 3)\n",
        "                          [3,1,2],\n",
        "                          [3,3,4]])\n",
        "y_test=torch.LongTensor([2,2,2]) # |y_test| =(m',)"
      ],
      "metadata": {
        "id": "Q3FZQ3jm1o0i"
      },
      "execution_count": 38,
      "outputs": []
    },
    {
      "cell_type": "code",
      "source": [
        "class SoftmaxClassifierModel(nn.Module):\n",
        "  def __init__(self):\n",
        "    super().__init__()\n",
        "    self.linear= nn.Linear(3,3) \n",
        "    # nn.Linear(input_dim, output_dim): 선형회귀모델\n",
        "\n",
        "  def forward(self,x):\n",
        "    return self.linear(x) # |x| = (m, 3) => (m, 3)"
      ],
      "metadata": {
        "id": "Od-9ht2-1vmG"
      },
      "execution_count": 39,
      "outputs": []
    },
    {
      "cell_type": "code",
      "source": [
        "model=SoftmaxClassifierModel()"
      ],
      "metadata": {
        "id": "rMnX5-4u2PXB"
      },
      "execution_count": 40,
      "outputs": []
    },
    {
      "cell_type": "code",
      "source": [
        "# optimizer 설정\n",
        "optimizer = optim.SGD(model.parameters(),lr=0.2)"
      ],
      "metadata": {
        "id": "oPz1_tci2RmR"
      },
      "execution_count": 41,
      "outputs": []
    },
    {
      "cell_type": "code",
      "source": [
        "def train(model, optimizer, x_train, y_train):\n",
        "  nb_epochs = 20\n",
        "  for epoch in range(nb_epochs):\n",
        "\n",
        "    # H(x) 계산\n",
        "    # # model(x_train)은 model.forward(x_train)와 동일\n",
        "    # orward() 함수는 model 객체를 데이터와 함께 호출하면 자동으로 실행됨 \n",
        "    # 예를 들어 model이란 이름의 객체를 생성 후, model(입력 데이터)와 같은 형식으로 객체를 호출하면 자동으로 forward 연산이 수행됨\n",
        "    prediction = model(x_train) # |x_train| = (m,3), |prediction| = (m,3)\n",
        "\n",
        "    # cost 계산\n",
        "    cost = F.cross_entropy(prediction,y_train) # |y_train| = (m,)\n",
        "\n",
        "    # cost로 H(x) 개선\n",
        "    optimizer.zero_grad()\n",
        "    cost.backward()\n",
        "    optimizer.step()\n",
        "\n",
        "    print('Epoch {:4d}/{} Cost:{:.6f}'.format(\n",
        "        epoch, nb_epochs, cost.item()\n",
        "    ))"
      ],
      "metadata": {
        "id": "LYPpbLfU2VNL"
      },
      "execution_count": 42,
      "outputs": []
    },
    {
      "cell_type": "code",
      "source": [
        "def test(model, optimizer, x_test, y_test):\n",
        "  prediction = model(x_test)\n",
        "  predicted_classes = prediction.max(1)[1]\n",
        "  correct_count = (predicted_classes == y_test).sum().item()\n",
        "  cost = F.cross_entropy(prediction,y_test)\n",
        "\n",
        "  print('Accuracy: {}% Cost: {:.6f}'.format(\n",
        "      correct_count / len(y_test) * 100, cost.item()\n",
        "  ))"
      ],
      "metadata": {
        "id": "UGybUUL940aH"
      },
      "execution_count": 43,
      "outputs": []
    },
    {
      "cell_type": "code",
      "source": [
        "train(model, optimizer, x_train, y_train)"
      ],
      "metadata": {
        "colab": {
          "base_uri": "https://localhost:8080/"
        },
        "id": "L0vP-tj65bxu",
        "outputId": "bbb14adb-82d8-401e-af28-304b40a883e9"
      },
      "execution_count": 44,
      "outputs": [
        {
          "output_type": "stream",
          "name": "stdout",
          "text": [
            "Epoch    0/20 Cost:2.203667\n",
            "Epoch    1/20 Cost:1.840367\n",
            "Epoch    2/20 Cost:1.584391\n",
            "Epoch    3/20 Cost:2.069124\n",
            "Epoch    4/20 Cost:1.743202\n",
            "Epoch    5/20 Cost:1.320897\n",
            "Epoch    6/20 Cost:1.694999\n",
            "Epoch    7/20 Cost:1.769424\n",
            "Epoch    8/20 Cost:1.394587\n",
            "Epoch    9/20 Cost:1.566779\n",
            "Epoch   10/20 Cost:1.785980\n",
            "Epoch   11/20 Cost:1.501441\n",
            "Epoch   12/20 Cost:1.469764\n",
            "Epoch   13/20 Cost:1.710151\n",
            "Epoch   14/20 Cost:1.480424\n",
            "Epoch   15/20 Cost:1.430445\n",
            "Epoch   16/20 Cost:1.754025\n",
            "Epoch   17/20 Cost:1.509513\n",
            "Epoch   18/20 Cost:1.344222\n",
            "Epoch   19/20 Cost:1.653306\n"
          ]
        }
      ]
    },
    {
      "cell_type": "code",
      "source": [
        "test(model, optimizer, x_test, y_test)"
      ],
      "metadata": {
        "colab": {
          "base_uri": "https://localhost:8080/"
        },
        "id": "mH16F2W25nnE",
        "outputId": "811e392f-9441-4f81-cb2e-339c867cf7d7"
      },
      "execution_count": 45,
      "outputs": [
        {
          "output_type": "stream",
          "name": "stdout",
          "text": [
            "Accuracy: 100.0% Cost: 0.513143\n"
          ]
        }
      ]
    },
    {
      "cell_type": "markdown",
      "source": [
        "## Data Preprocessing"
      ],
      "metadata": {
        "id": "0HsCVYRT6WLl"
      }
    },
    {
      "cell_type": "code",
      "source": [
        "x_train=torch.FloatTensor([[73,80,75],\n",
        "                           [93,88,93],\n",
        "                           [89,91,90],\n",
        "                           [96,98,100],\n",
        "                           [73,66,70]])\n",
        "y_train=torch.FloatTensor([[152],[185],[180],[196],[142]])"
      ],
      "metadata": {
        "id": "Jfi2SDRi5pl3"
      },
      "execution_count": 46,
      "outputs": []
    },
    {
      "cell_type": "code",
      "source": [
        " # data standardization\n",
        " mu = x_train.mean(dim=0)\n",
        " sigma = x_train.std(dim=0)\n",
        " norm_x_train = (x_train - mu) / sigma"
      ],
      "metadata": {
        "id": "vHxhaI9A6kY_"
      },
      "execution_count": 47,
      "outputs": []
    },
    {
      "cell_type": "code",
      "source": [
        "print(norm_x_train)"
      ],
      "metadata": {
        "colab": {
          "base_uri": "https://localhost:8080/"
        },
        "id": "zas9u1rM64jF",
        "outputId": "86e2ff5c-5934-4d93-b896-f6c1bb51274c"
      },
      "execution_count": 48,
      "outputs": [
        {
          "output_type": "stream",
          "name": "stdout",
          "text": [
            "tensor([[-1.0674, -0.3758, -0.8398],\n",
            "        [ 0.7418,  0.2778,  0.5863],\n",
            "        [ 0.3799,  0.5229,  0.3486],\n",
            "        [ 1.0132,  1.0948,  1.1409],\n",
            "        [-1.0674, -1.5197, -1.2360]])\n"
          ]
        }
      ]
    },
    {
      "cell_type": "markdown",
      "source": [
        "## Training with Preprocessed Data"
      ],
      "metadata": {
        "id": "NsKFwFFb7CHr"
      }
    },
    {
      "cell_type": "code",
      "source": [
        "class MultivariateLinearRegressionModel(nn.Module):\n",
        "  def __init__(self):\n",
        "    super().__init__()\n",
        "    self.linear=nn.Linear(3,1)\n",
        "  def forward(self,x):\n",
        "    return self.linear(x)"
      ],
      "metadata": {
        "id": "MqjAY7Ip66Q5"
      },
      "execution_count": 55,
      "outputs": []
    },
    {
      "cell_type": "code",
      "source": [
        "model = MultivariateLinearRegressionModel()"
      ],
      "metadata": {
        "id": "tpGDQkiS7NKB"
      },
      "execution_count": 60,
      "outputs": []
    },
    {
      "cell_type": "code",
      "source": [
        "optimizer = optim.SGD(model.parameters(), lr=1e-1)"
      ],
      "metadata": {
        "id": "YOTuRWbf7PmQ"
      },
      "execution_count": 61,
      "outputs": []
    },
    {
      "cell_type": "code",
      "source": [
        "def train(model, optimizer, x_train, y_train):\n",
        "  nb_epochs = 20\n",
        "  for epoch in range(nb_epochs):\n",
        "\n",
        "    # H(x) 계산\n",
        "    prediction = model(x_train) # |x_train| = (m,3), |prediction| = (m,1)\n",
        "\n",
        "    # cost 계산\n",
        "    cost = F.mse_loss(prediction,y_train) # |y_train| = (m,)\n",
        "\n",
        "    # cost로 H(x) 개선\n",
        "    optimizer.zero_grad()\n",
        "    cost.backward()\n",
        "    optimizer.step()\n",
        "\n",
        "    print('Epoch {:4d}/{} Cost:{:.6f}'.format(\n",
        "        epoch, nb_epochs, cost.item()\n",
        "    ))"
      ],
      "metadata": {
        "id": "JvNbz0Hf9nuB"
      },
      "execution_count": 63,
      "outputs": []
    },
    {
      "cell_type": "code",
      "source": [
        "train(model, optimizer, norm_x_train, y_train)"
      ],
      "metadata": {
        "colab": {
          "base_uri": "https://localhost:8080/"
        },
        "id": "LDepTFVx7Sop",
        "outputId": "242fe70a-6258-4579-804d-18e48cb1239b"
      },
      "execution_count": 64,
      "outputs": [
        {
          "output_type": "stream",
          "name": "stdout",
          "text": [
            "Epoch    0/20 Cost:29770.843750\n",
            "Epoch    1/20 Cost:18898.781250\n",
            "Epoch    2/20 Cost:12050.423828\n",
            "Epoch    3/20 Cost:7699.415527\n",
            "Epoch    4/20 Cost:4924.062012\n",
            "Epoch    5/20 Cost:3150.534668\n",
            "Epoch    6/20 Cost:2016.257812\n",
            "Epoch    7/20 Cost:1290.541992\n",
            "Epoch    8/20 Cost:826.142700\n",
            "Epoch    9/20 Cost:528.939758\n",
            "Epoch   10/20 Cost:338.729218\n",
            "Epoch   11/20 Cost:216.989227\n",
            "Epoch   12/20 Cost:139.070099\n",
            "Epoch   13/20 Cost:89.196045\n",
            "Epoch   14/20 Cost:57.270782\n",
            "Epoch   15/20 Cost:36.833179\n",
            "Epoch   16/20 Cost:23.747566\n",
            "Epoch   17/20 Cost:15.367709\n",
            "Epoch   18/20 Cost:9.999623\n",
            "Epoch   19/20 Cost:6.559284\n"
          ]
        }
      ]
    },
    {
      "cell_type": "code",
      "source": [
        ""
      ],
      "metadata": {
        "id": "btA4y0RB8nd-"
      },
      "execution_count": null,
      "outputs": []
    }
  ]
}