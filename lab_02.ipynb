{
  "nbformat": 4,
  "nbformat_minor": 0,
  "metadata": {
    "colab": {
      "name": "lab-02.ipynb",
      "provenance": [],
      "authorship_tag": "ABX9TyM4AHzSob9u3aWpfFvmfuua",
      "include_colab_link": true
    },
    "kernelspec": {
      "name": "python3",
      "display_name": "Python 3"
    },
    "language_info": {
      "name": "python"
    }
  },
  "cells": [
    {
      "cell_type": "markdown",
      "metadata": {
        "id": "view-in-github",
        "colab_type": "text"
      },
      "source": [
        "<a href=\"https://colab.research.google.com/github/pmy0792/pytorch_tutorial/blob/main/lab_02.ipynb\" target=\"_parent\"><img src=\"https://colab.research.google.com/assets/colab-badge.svg\" alt=\"Open In Colab\"/></a>"
      ]
    },
    {
      "cell_type": "code",
      "execution_count": 1,
      "metadata": {
        "id": "owKZ0L2N4R0W"
      },
      "outputs": [],
      "source": [
        "import torch"
      ]
    },
    {
      "cell_type": "code",
      "source": [
        "x_train=torch.FloatTensor([[1],[2],[3]])\n",
        "y_train=torch.FloatTensor([[2],[4],[6]])\n",
        "\n",
        "print(x_train.dim())\n",
        "print(x_train.size())"
      ],
      "metadata": {
        "colab": {
          "base_uri": "https://localhost:8080/"
        },
        "id": "tuDK8Q5s5Ehj",
        "outputId": "124d7fd3-c26f-482e-81e4-74a646ae37ef"
      },
      "execution_count": 4,
      "outputs": [
        {
          "output_type": "stream",
          "name": "stdout",
          "text": [
            "2\n",
            "torch.Size([3, 1])\n"
          ]
        }
      ]
    },
    {
      "cell_type": "code",
      "source": [
        "W=torch.zeros(1, requires_grad=True) #requires_grad=True: 학습할 것이라고 명시\n",
        "b=torch.zeros(1, requires_grad=True)\n",
        "hypothesis = x_train*W + b"
      ],
      "metadata": {
        "id": "O18mTSIU5ahr"
      },
      "execution_count": 10,
      "outputs": []
    },
    {
      "cell_type": "code",
      "source": [
        "print(hypothesis)"
      ],
      "metadata": {
        "colab": {
          "base_uri": "https://localhost:8080/"
        },
        "id": "mwqmzhAN5lnF",
        "outputId": "22814776-b363-4f17-8874-b1960b234a1a"
      },
      "execution_count": 11,
      "outputs": [
        {
          "output_type": "stream",
          "name": "stdout",
          "text": [
            "tensor([[0.],\n",
            "        [0.],\n",
            "        [0.]], grad_fn=<AddBackward0>)\n"
          ]
        }
      ]
    },
    {
      "cell_type": "code",
      "source": [
        "cost=torch.mean((hypothesis - y_train) ** 2) #loss 정의"
      ],
      "metadata": {
        "id": "QB6yIdC45pZk"
      },
      "execution_count": 12,
      "outputs": []
    },
    {
      "cell_type": "code",
      "source": [
        "from torch import optim\n",
        "optimizer=optim.SGD([W,b],lr=0.01) # [W,b]는 학습할 tensor\n",
        "\n",
        "# hold the current state and will update the parameters based on the computed gradients\n",
        "optimizer.zero_grad() #gradient 초기화\n",
        "cost.backward() #gradient 계산\n",
        "optimizer.step() #gradient 개선"
      ],
      "metadata": {
        "id": "T1VPO9U954U1"
      },
      "execution_count": 13,
      "outputs": []
    },
    {
      "cell_type": "code",
      "source": [
        "nb_epochs=100\n",
        "for epoch in range(1,nb_epochs+1):\n",
        "  hypothesis = x_train*W + b\n",
        "  cost=torch.mean((hypothesis - y_train)**2)\n",
        "\n",
        "  optimizer.zero_grad()\n",
        "  cost.backward()\n",
        "  optimizer.step()"
      ],
      "metadata": {
        "id": "WOUeNXzo6cJ-"
      },
      "execution_count": 15,
      "outputs": []
    }
  ]
}