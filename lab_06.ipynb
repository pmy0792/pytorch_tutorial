{
  "nbformat": 4,
  "nbformat_minor": 0,
  "metadata": {
    "colab": {
      "name": "lab-06.ipynb",
      "provenance": [],
      "authorship_tag": "ABX9TyP98jNmol7Kt7gECALJ0m3q",
      "include_colab_link": true
    },
    "kernelspec": {
      "name": "python3",
      "display_name": "Python 3"
    },
    "language_info": {
      "name": "python"
    }
  },
  "cells": [
    {
      "cell_type": "markdown",
      "metadata": {
        "id": "view-in-github",
        "colab_type": "text"
      },
      "source": [
        "<a href=\"https://colab.research.google.com/github/pmy0792/pytorch_tutorial/blob/main/lab_06.ipynb\" target=\"_parent\"><img src=\"https://colab.research.google.com/assets/colab-badge.svg\" alt=\"Open In Colab\"/></a>"
      ]
    },
    {
      "cell_type": "code",
      "execution_count": 2,
      "metadata": {
        "id": "n1-sQ2k9I5gP"
      },
      "outputs": [],
      "source": [
        "import torch\n",
        "import torch.nn as nn\n",
        "import torch.nn.functional as F\n",
        "import torch.optim as optim"
      ]
    },
    {
      "cell_type": "code",
      "source": [
        "torch.manual_seed(1)"
      ],
      "metadata": {
        "colab": {
          "base_uri": "https://localhost:8080/"
        },
        "id": "QFFOmSgzK5j1",
        "outputId": "07ed0425-f4da-4275-a860-68fc740f4dcb"
      },
      "execution_count": 3,
      "outputs": [
        {
          "output_type": "execute_result",
          "data": {
            "text/plain": [
              "<torch._C.Generator at 0x7f943b8e12d0>"
            ]
          },
          "metadata": {},
          "execution_count": 3
        }
      ]
    },
    {
      "cell_type": "code",
      "source": [
        "z=torch.FloatTensor([1,2,3])"
      ],
      "metadata": {
        "id": "fAB0Jto2LZBH"
      },
      "execution_count": 4,
      "outputs": []
    },
    {
      "cell_type": "code",
      "source": [
        "hypothesis=F.softmax(z,dim=0)\n",
        "print(hypothesis)"
      ],
      "metadata": {
        "colab": {
          "base_uri": "https://localhost:8080/"
        },
        "id": "NSToNIPNrFii",
        "outputId": "bb1e70f3-d721-4e4c-c760-af31fdbcd172"
      },
      "execution_count": 5,
      "outputs": [
        {
          "output_type": "stream",
          "name": "stdout",
          "text": [
            "tensor([0.0900, 0.2447, 0.6652])\n"
          ]
        }
      ]
    },
    {
      "cell_type": "code",
      "source": [
        "hypothesis.sum()"
      ],
      "metadata": {
        "colab": {
          "base_uri": "https://localhost:8080/"
        },
        "id": "_ciXZfNCsmeM",
        "outputId": "df2b66ba-068b-42eb-d5c6-b2015e0732b8"
      },
      "execution_count": 6,
      "outputs": [
        {
          "output_type": "execute_result",
          "data": {
            "text/plain": [
              "tensor(1.)"
            ]
          },
          "metadata": {},
          "execution_count": 6
        }
      ]
    },
    {
      "cell_type": "markdown",
      "source": [
        "## Cross Entropy Loss (Low-level)"
      ],
      "metadata": {
        "id": "pI4yW9sevZW0"
      }
    },
    {
      "cell_type": "code",
      "source": [
        "z= torch.rand(3,5,requires_grad=True)\n",
        "print(z)"
      ],
      "metadata": {
        "colab": {
          "base_uri": "https://localhost:8080/"
        },
        "id": "DHyaf-QCspm-",
        "outputId": "1b848079-365b-4cc0-92d8-52e8aa51af95"
      },
      "execution_count": 7,
      "outputs": [
        {
          "output_type": "stream",
          "name": "stdout",
          "text": [
            "tensor([[0.7576, 0.2793, 0.4031, 0.7347, 0.0293],\n",
            "        [0.7999, 0.3971, 0.7544, 0.5695, 0.4388],\n",
            "        [0.6387, 0.5247, 0.6826, 0.3051, 0.4635]], requires_grad=True)\n"
          ]
        }
      ]
    },
    {
      "cell_type": "code",
      "source": [
        "hypothesis=F.softmax(z,dim=1)\n",
        "print(hypothesis)"
      ],
      "metadata": {
        "colab": {
          "base_uri": "https://localhost:8080/"
        },
        "id": "ezd4WzbrtirO",
        "outputId": "86ac2f11-5ab1-4812-ab78-ebd9e57d5bc7"
      },
      "execution_count": 8,
      "outputs": [
        {
          "output_type": "stream",
          "name": "stdout",
          "text": [
            "tensor([[0.2645, 0.1639, 0.1855, 0.2585, 0.1277],\n",
            "        [0.2430, 0.1624, 0.2322, 0.1930, 0.1694],\n",
            "        [0.2226, 0.1986, 0.2326, 0.1594, 0.1868]], grad_fn=<SoftmaxBackward0>)\n"
          ]
        }
      ]
    },
    {
      "cell_type": "code",
      "source": [
        "y=torch.randint(5,(3,)).long()\n",
        "print(y)"
      ],
      "metadata": {
        "colab": {
          "base_uri": "https://localhost:8080/"
        },
        "id": "ygi22FqJtn7V",
        "outputId": "4465c352-aeeb-417f-c14f-6f06f16105f8"
      },
      "execution_count": 9,
      "outputs": [
        {
          "output_type": "stream",
          "name": "stdout",
          "text": [
            "tensor([0, 2, 1])\n"
          ]
        }
      ]
    },
    {
      "cell_type": "code",
      "source": [
        "y_one_hot=torch.zeros_like(hypothesis)\n",
        "y_one_hot.scatter_(1,y.unsqueeze(1),1)\n",
        "# y.unsqueeze(1): y의 size가 (3,) => (3,1)"
      ],
      "metadata": {
        "colab": {
          "base_uri": "https://localhost:8080/"
        },
        "id": "ycZHZj_utzAl",
        "outputId": "67fcf229-12e4-40e6-d713-1c6092caf698"
      },
      "execution_count": 11,
      "outputs": [
        {
          "output_type": "execute_result",
          "data": {
            "text/plain": [
              "tensor([[1., 0., 0., 0., 0.],\n",
              "        [0., 0., 1., 0., 0.],\n",
              "        [0., 1., 0., 0., 0.]])"
            ]
          },
          "metadata": {},
          "execution_count": 11
        }
      ]
    },
    {
      "cell_type": "code",
      "source": [
        "cost=(y_one_hot * -torch.log(hypothesis)).sum(dim=1).mean()\n",
        "print(cost)"
      ],
      "metadata": {
        "colab": {
          "base_uri": "https://localhost:8080/"
        },
        "id": "8m3-bmzkuc2t",
        "outputId": "7f13265e-75dc-4f6a-c3c9-c40d5630f568"
      },
      "execution_count": 12,
      "outputs": [
        {
          "output_type": "stream",
          "name": "stdout",
          "text": [
            "tensor(1.4689, grad_fn=<MeanBackward0>)\n"
          ]
        }
      ]
    },
    {
      "cell_type": "markdown",
      "source": [
        "## Cross Entropy Loss with torch.nn.functional"
      ],
      "metadata": {
        "id": "F35p1fqhvg_5"
      }
    },
    {
      "cell_type": "code",
      "source": [
        "# Low level\n",
        "torch.log(F.softmax(z,dim=1))"
      ],
      "metadata": {
        "colab": {
          "base_uri": "https://localhost:8080/"
        },
        "id": "BMsTxR5cvIYN",
        "outputId": "540a8d77-81ef-49d5-ddf8-6e00bede93eb"
      },
      "execution_count": 13,
      "outputs": [
        {
          "output_type": "execute_result",
          "data": {
            "text/plain": [
              "tensor([[-1.3301, -1.8084, -1.6846, -1.3530, -2.0584],\n",
              "        [-1.4147, -1.8174, -1.4602, -1.6450, -1.7758],\n",
              "        [-1.5025, -1.6165, -1.4586, -1.8360, -1.6776]], grad_fn=<LogBackward0>)"
            ]
          },
          "metadata": {},
          "execution_count": 13
        }
      ]
    },
    {
      "cell_type": "code",
      "source": [
        "# High level\n",
        "F.log_softmax(z,dim=1)"
      ],
      "metadata": {
        "colab": {
          "base_uri": "https://localhost:8080/"
        },
        "id": "OGA9gGJavp_t",
        "outputId": "56e55e9e-e72d-4669-c7e1-88ebaa4e1845"
      },
      "execution_count": 14,
      "outputs": [
        {
          "output_type": "execute_result",
          "data": {
            "text/plain": [
              "tensor([[-1.3301, -1.8084, -1.6846, -1.3530, -2.0584],\n",
              "        [-1.4147, -1.8174, -1.4602, -1.6450, -1.7758],\n",
              "        [-1.5025, -1.6165, -1.4586, -1.8360, -1.6776]],\n",
              "       grad_fn=<LogSoftmaxBackward0>)"
            ]
          },
          "metadata": {},
          "execution_count": 14
        }
      ]
    },
    {
      "cell_type": "code",
      "source": [
        "# Low level\n",
        "(y_one_hot * -torch.log(F.softmax(z,dim=1))).sum(dim=1).mean()"
      ],
      "metadata": {
        "colab": {
          "base_uri": "https://localhost:8080/"
        },
        "id": "BzaCM-Tpvv08",
        "outputId": "8331a3b5-a29f-47bd-8a96-ff345f162093"
      },
      "execution_count": 15,
      "outputs": [
        {
          "output_type": "execute_result",
          "data": {
            "text/plain": [
              "tensor(1.4689, grad_fn=<MeanBackward0>)"
            ]
          },
          "metadata": {},
          "execution_count": 15
        }
      ]
    },
    {
      "cell_type": "code",
      "source": [
        "# High level\n",
        "F.nll_loss(F.log_softmax(z, dim=1),y)\n",
        "\n",
        "# NLL : Negative Log Likelihood"
      ],
      "metadata": {
        "colab": {
          "base_uri": "https://localhost:8080/"
        },
        "id": "EwDrx2kuv9EM",
        "outputId": "75326e56-293c-4272-e53b-6eb9a951f41c"
      },
      "execution_count": 16,
      "outputs": [
        {
          "output_type": "execute_result",
          "data": {
            "text/plain": [
              "tensor(1.4689, grad_fn=<NllLossBackward0>)"
            ]
          },
          "metadata": {},
          "execution_count": 16
        }
      ]
    },
    {
      "cell_type": "code",
      "source": [
        "# F.cross_entropy: combines F.log_softmax() and F.nll_loss()\n",
        "F.cross_entropy(z,y)"
      ],
      "metadata": {
        "colab": {
          "base_uri": "https://localhost:8080/"
        },
        "id": "aFWI4YeJwBas",
        "outputId": "09b502ac-31d8-4d35-9a80-41f7b91a638d"
      },
      "execution_count": 17,
      "outputs": [
        {
          "output_type": "execute_result",
          "data": {
            "text/plain": [
              "tensor(1.4689, grad_fn=<NllLossBackward0>)"
            ]
          },
          "metadata": {},
          "execution_count": 17
        }
      ]
    },
    {
      "cell_type": "markdown",
      "source": [
        "## Training with Low-level Cross Entropy Loss"
      ],
      "metadata": {
        "id": "k27LRqGvxNN4"
      }
    },
    {
      "cell_type": "code",
      "source": [
        "x_train=[[1,2,1,1],\n",
        "         [2,1,3,2],\n",
        "         [3,1,3,4],\n",
        "         [4,1,5,5],\n",
        "         [1,7,5,5],\n",
        "         [1,2,5,6],\n",
        "         [1,6,6,6],\n",
        "         [1,7,7,7]]\n",
        "y_train=[2,2,2,1,1,1,0,0]\n",
        "\n",
        "x_train=torch.FloatTensor(x_train)\n",
        "y_train=torch.LongTensor(y_train)"
      ],
      "metadata": {
        "id": "rEtRveNywacW"
      },
      "execution_count": 18,
      "outputs": []
    },
    {
      "cell_type": "code",
      "source": [
        "print(x_train)"
      ],
      "metadata": {
        "colab": {
          "base_uri": "https://localhost:8080/"
        },
        "id": "cFraRSigxzoW",
        "outputId": "b975731b-8106-424a-e1b8-cf4d4f5150b3"
      },
      "execution_count": 19,
      "outputs": [
        {
          "output_type": "stream",
          "name": "stdout",
          "text": [
            "tensor([[1., 2., 1., 1.],\n",
            "        [2., 1., 3., 2.],\n",
            "        [3., 1., 3., 4.],\n",
            "        [4., 1., 5., 5.],\n",
            "        [1., 7., 5., 5.],\n",
            "        [1., 2., 5., 6.],\n",
            "        [1., 6., 6., 6.],\n",
            "        [1., 7., 7., 7.]])\n"
          ]
        }
      ]
    },
    {
      "cell_type": "code",
      "source": [
        "# 모델 초기화\n",
        "W = torch.zeros((4,3), requires_grad=True)\n",
        "b = torch.zeros(1,requires_grad=True)\n",
        "\n",
        "# optimizer 설정\n",
        "optimizer=optim.SGD((W,b),lr=0.6)\n",
        "\n",
        "nb_epochs=100\n",
        "for epoch in range(nb_epochs+1):\n",
        "  # Cost 계산\n",
        "  hypothesis=F.softmax(x_train.matmul(W)+b, dim=1)\n",
        "  y_one_hot=torch.zeros_like(hypothesis)\n",
        "  y_one_hot.scatter_(1,y_train.unsqueeze(1),1)\n",
        "  cost=(y_one_hot * -torch.log(F.softmax(hypothesis,dim=1))).sum(dim=1).mean()\n",
        "\n",
        "  # optimizer로 H(x) 계산\n",
        "  optimizer.zero_grad()\n",
        "  cost.backward()\n",
        "  optimizer.step()\n",
        "\n",
        "  if epoch % 10 ==0:\n",
        "    print('Epoch {:4d}/{} Cost: {:.6f}'.format(\n",
        "        epoch, nb_epochs,cost.item()\n",
        "    ))"
      ],
      "metadata": {
        "colab": {
          "base_uri": "https://localhost:8080/"
        },
        "id": "OQZHkOVAx19u",
        "outputId": "069225e8-9ff2-482f-8610-891249ea55eb"
      },
      "execution_count": 25,
      "outputs": [
        {
          "output_type": "stream",
          "name": "stdout",
          "text": [
            "Epoch    0/100 Cost: 1.098612\n",
            "Epoch   10/100 Cost: 0.990097\n",
            "Epoch   20/100 Cost: 0.893733\n",
            "Epoch   30/100 Cost: 0.850376\n",
            "Epoch   40/100 Cost: 0.826090\n",
            "Epoch   50/100 Cost: 0.809265\n",
            "Epoch   60/100 Cost: 0.797058\n",
            "Epoch   70/100 Cost: 0.788881\n",
            "Epoch   80/100 Cost: 0.782570\n",
            "Epoch   90/100 Cost: 0.776580\n",
            "Epoch  100/100 Cost: 0.771361\n"
          ]
        }
      ]
    },
    {
      "cell_type": "markdown",
      "source": [
        "## Training with F.cross_entropy"
      ],
      "metadata": {
        "id": "T8Tt4gNK0_80"
      }
    },
    {
      "cell_type": "code",
      "source": [
        "# 모델 초기화\n",
        "W = torch.zeros((4,3), requires_grad=True)\n",
        "b = torch.zeros(1,requires_grad=True)\n",
        "\n",
        "# optimizer 설정\n",
        "optimizer=optim.SGD((W,b),lr=0.1)\n",
        "\n",
        "nb_epochs=100\n",
        "for epoch in range(nb_epochs+1):\n",
        "  # Cost 계산\n",
        "  z=x_train.matmul(W)+b\n",
        "  cost=F.cross_entropy(z,y_train)\n",
        "  '''\n",
        "  hypothesis=F.softmax(x_train.matmul(W)+b, dim=1)\n",
        "  y_one_hot=torch.zeros_like(hypothesis)\n",
        "  y_one_hot.scatter_(1,y_train.unsqueeze(1),1)\n",
        "  cost=(y_one_hot * -torch.log(F.softmax(hypothesis,dim=1))).sum(dim=1).mean()\n",
        "  '''\n",
        "\n",
        "  # optimizer로 H(x) 계산\n",
        "  optimizer.zero_grad()\n",
        "  cost.backward()\n",
        "  optimizer.step()\n",
        "\n",
        "  if epoch % 10 ==0:\n",
        "    print('Epoch {:4d}/{} Cost: {:.6f}'.format(\n",
        "        epoch, nb_epochs,cost.item()\n",
        "    ))"
      ],
      "metadata": {
        "colab": {
          "base_uri": "https://localhost:8080/"
        },
        "id": "VgbQ22k_0plf",
        "outputId": "2f711597-8c38-42a7-bcbb-bd4c636a2f22"
      },
      "execution_count": 28,
      "outputs": [
        {
          "output_type": "stream",
          "name": "stdout",
          "text": [
            "Epoch    0/100 Cost: 1.098612\n",
            "Epoch   10/100 Cost: 1.069288\n",
            "Epoch   20/100 Cost: 0.960612\n",
            "Epoch   30/100 Cost: 0.901738\n",
            "Epoch   40/100 Cost: 0.863738\n",
            "Epoch   50/100 Cost: 0.836334\n",
            "Epoch   60/100 Cost: 0.815246\n",
            "Epoch   70/100 Cost: 0.798249\n",
            "Epoch   80/100 Cost: 0.784040\n",
            "Epoch   90/100 Cost: 0.771814\n",
            "Epoch  100/100 Cost: 0.761050\n"
          ]
        }
      ]
    },
    {
      "cell_type": "markdown",
      "source": [
        "## High-level Implementation with nn.Module"
      ],
      "metadata": {
        "id": "oWhRvRhK2Kci"
      }
    },
    {
      "cell_type": "code",
      "source": [
        "class SoftmaxClassifierModel(nn.Module):\n",
        "  def __init__(self):\n",
        "    super().__init__()\n",
        "    self.linear = nn.Linear(4,3)\n",
        "\n",
        "  def forward(self,x):\n",
        "    return self.linear(x) # |x| = (m,4) -> (m,3)"
      ],
      "metadata": {
        "id": "TpuKuF7S17tN"
      },
      "execution_count": 29,
      "outputs": []
    },
    {
      "cell_type": "code",
      "source": [
        "model = SoftmaxClassifierModel()"
      ],
      "metadata": {
        "id": "N0kHUT542XrH"
      },
      "execution_count": 30,
      "outputs": []
    },
    {
      "cell_type": "code",
      "source": [
        "# optimizer 설정 \n",
        "optimizer =optim.SGD(model.parameters(),lr=0.1)\n",
        "\n",
        "nb_epochs=100\n",
        "for epoch in range(nb_epochs+1):\n",
        "\n",
        "  # H(x) 계산\n",
        "  prediction=model(x_train) # |x_train|=(m,4), |prediction=(m,3)\n",
        "\n",
        "  # cost 계산\n",
        "  cost = F.cross_entropy(prediction,y_train) # |y_train| =(m,ddd)\n",
        "\n",
        "  # cost로 H(x) 개선\n",
        "  optimizer.zero_grad()\n",
        "  cost.backward()\n",
        "  optimizer.step()\n",
        "\n",
        "  if epoch % 10 ==0:\n",
        "    print('Epoch {:4d}/{} Cost: {:.6f}'.format(\n",
        "        epoch, nb_epochs,cost.item()\n",
        "    ))"
      ],
      "metadata": {
        "colab": {
          "base_uri": "https://localhost:8080/"
        },
        "id": "xQ5qzCxY2ds8",
        "outputId": "cc0956d8-6bf6-436c-ad22-3c33c0f2422b"
      },
      "execution_count": 31,
      "outputs": [
        {
          "output_type": "stream",
          "name": "stdout",
          "text": [
            "Epoch    0/100 Cost: 1.849513\n",
            "Epoch   10/100 Cost: 0.859702\n",
            "Epoch   20/100 Cost: 0.904911\n",
            "Epoch   30/100 Cost: 0.835288\n",
            "Epoch   40/100 Cost: 0.794997\n",
            "Epoch   50/100 Cost: 0.767245\n",
            "Epoch   60/100 Cost: 0.746041\n",
            "Epoch   70/100 Cost: 0.728796\n",
            "Epoch   80/100 Cost: 0.714160\n",
            "Epoch   90/100 Cost: 0.701354\n",
            "Epoch  100/100 Cost: 0.689894\n"
          ]
        }
      ]
    }
  ]
}