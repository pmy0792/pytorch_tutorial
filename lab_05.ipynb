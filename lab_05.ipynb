{
  "nbformat": 4,
  "nbformat_minor": 0,
  "metadata": {
    "colab": {
      "name": "lab-05.ipynb",
      "provenance": [],
      "toc_visible": true,
      "authorship_tag": "ABX9TyNbsljqs/XN8AXJVZ4brA4l",
      "include_colab_link": true
    },
    "kernelspec": {
      "name": "python3",
      "display_name": "Python 3"
    },
    "language_info": {
      "name": "python"
    }
  },
  "cells": [
    {
      "cell_type": "markdown",
      "metadata": {
        "id": "view-in-github",
        "colab_type": "text"
      },
      "source": [
        "<a href=\"https://colab.research.google.com/github/pmy0792/pytorch_tutorial/blob/main/lab_05.ipynb\" target=\"_parent\"><img src=\"https://colab.research.google.com/assets/colab-badge.svg\" alt=\"Open In Colab\"/></a>"
      ]
    },
    {
      "cell_type": "code",
      "execution_count": 1,
      "metadata": {
        "id": "2SXjsg3dIAmm"
      },
      "outputs": [],
      "source": [
        "import torch\n",
        "import torch.nn as nn\n",
        "import torch.nn.functional as F\n",
        "import torch.optim as optim"
      ]
    },
    {
      "cell_type": "code",
      "source": [
        "# For reproducibility\n",
        "torch.manual_seed(1)"
      ],
      "metadata": {
        "colab": {
          "base_uri": "https://localhost:8080/"
        },
        "id": "fLDnNpkCJU5V",
        "outputId": "e7803ea8-906d-44f6-d974-a32bb4e6c0d4"
      },
      "execution_count": 2,
      "outputs": [
        {
          "output_type": "execute_result",
          "data": {
            "text/plain": [
              "<torch._C.Generator at 0x7f006e23e790>"
            ]
          },
          "metadata": {},
          "execution_count": 2
        }
      ]
    },
    {
      "cell_type": "markdown",
      "source": [
        "### Training data"
      ],
      "metadata": {
        "id": "T8l-Hu4hKG2z"
      }
    },
    {
      "cell_type": "code",
      "source": [
        "\n",
        "x_data=[[1,2],[2,3],[3,1],[4,3],[5,3],[6,2]] # size: (6,2)\n",
        "y_data=[[0],[0],[0],[1],[1],[1]]\n",
        "\n",
        "x_train=torch.FloatTensor(x_data)\n",
        "y_train=torch.FloatTensor(y_data)\n",
        "\n",
        "print(x_train.shape)\n",
        "print(y_train.shape)"
      ],
      "metadata": {
        "colab": {
          "base_uri": "https://localhost:8080/"
        },
        "id": "qZwwvCJSJgAd",
        "outputId": "36632c43-bc9d-44fb-eed8-f3de523279d0"
      },
      "execution_count": 3,
      "outputs": [
        {
          "output_type": "stream",
          "name": "stdout",
          "text": [
            "torch.Size([6, 2])\n",
            "torch.Size([6, 1])\n"
          ]
        }
      ]
    },
    {
      "cell_type": "markdown",
      "source": [
        "### Computing the Hypothesis"
      ],
      "metadata": {
        "id": "Wnov3mGJKJJH"
      }
    },
    {
      "cell_type": "code",
      "source": [
        "print('e^1 equals: ',torch.exp(torch.FloatTensor([1])))"
      ],
      "metadata": {
        "colab": {
          "base_uri": "https://localhost:8080/"
        },
        "id": "rfdCIQyrJ8at",
        "outputId": "36168adf-4011-4781-93dd-a36788b850a9"
      },
      "execution_count": 4,
      "outputs": [
        {
          "output_type": "stream",
          "name": "stdout",
          "text": [
            "e^1 equals:  tensor([2.7183])\n"
          ]
        }
      ]
    },
    {
      "cell_type": "code",
      "source": [
        "W=torch.zeros((2,1),requires_grad=True)\n",
        "b=torch.zeros(1, requires_grad=True)"
      ],
      "metadata": {
        "id": "6WRCjpVVKQRj"
      },
      "execution_count": 5,
      "outputs": []
    },
    {
      "cell_type": "code",
      "source": [
        "hypothesis = 1 / (1+torch.exp(-(x_train.matmul(W)+b)))\n",
        "# x_train.matmul(W) == torch.matmul(x_Train,W)"
      ],
      "metadata": {
        "id": "aBDwytvFKWVQ"
      },
      "execution_count": 9,
      "outputs": []
    },
    {
      "cell_type": "code",
      "source": [
        "print(hypothesis)\n",
        "print(hypothesis.shape)"
      ],
      "metadata": {
        "colab": {
          "base_uri": "https://localhost:8080/"
        },
        "id": "AoUkMNM4LTTJ",
        "outputId": "4a5aaa69-89dc-45e6-8035-6ccdd3cd8cc8"
      },
      "execution_count": 10,
      "outputs": [
        {
          "output_type": "stream",
          "name": "stdout",
          "text": [
            "tensor([[0.5000],\n",
            "        [0.5000],\n",
            "        [0.5000],\n",
            "        [0.5000],\n",
            "        [0.5000],\n",
            "        [0.5000]], grad_fn=<MulBackward0>)\n",
            "torch.Size([6, 1])\n"
          ]
        }
      ]
    },
    {
      "cell_type": "code",
      "source": [
        "# torch에서 sigmoid 함수 제공\n",
        "hypothesis = torch.sigmoid(x_train.matmul(W)+b)"
      ],
      "metadata": {
        "id": "xAK2tacRLIbs"
      },
      "execution_count": 11,
      "outputs": []
    },
    {
      "cell_type": "code",
      "source": [
        "print(hypothesis)\n",
        "print(hypothesis.shape)"
      ],
      "metadata": {
        "colab": {
          "base_uri": "https://localhost:8080/"
        },
        "id": "AHuydrgvKn24",
        "outputId": "ed036e87-8e42-4785-d9a3-f05be22bb404"
      },
      "execution_count": 12,
      "outputs": [
        {
          "output_type": "stream",
          "name": "stdout",
          "text": [
            "tensor([[0.5000],\n",
            "        [0.5000],\n",
            "        [0.5000],\n",
            "        [0.5000],\n",
            "        [0.5000],\n",
            "        [0.5000]], grad_fn=<SigmoidBackward0>)\n",
            "torch.Size([6, 1])\n"
          ]
        }
      ]
    },
    {
      "cell_type": "markdown",
      "source": [
        "### Computing the Cost Function"
      ],
      "metadata": {
        "id": "xJjp_VNLL7Od"
      }
    },
    {
      "cell_type": "code",
      "source": [
        "losses = -(y_train * torch.log(hypothesis)+\n",
        "           (1-y_train)*torch.log(1-hypothesis))\n",
        "print(losses)"
      ],
      "metadata": {
        "colab": {
          "base_uri": "https://localhost:8080/"
        },
        "id": "1RMt-D7rL9Tx",
        "outputId": "2ec767be-8338-4056-98f1-b2c9f80a3605"
      },
      "execution_count": 13,
      "outputs": [
        {
          "output_type": "stream",
          "name": "stdout",
          "text": [
            "tensor([[0.6931],\n",
            "        [0.6931],\n",
            "        [0.6931],\n",
            "        [0.6931],\n",
            "        [0.6931],\n",
            "        [0.6931]], grad_fn=<NegBackward0>)\n"
          ]
        }
      ]
    },
    {
      "cell_type": "code",
      "source": [
        "cost = losses.mean()\n",
        "print(cost)"
      ],
      "metadata": {
        "colab": {
          "base_uri": "https://localhost:8080/"
        },
        "id": "di2cJaiyMICo",
        "outputId": "0f6ef515-ff1f-48df-f980-169678ab1485"
      },
      "execution_count": 14,
      "outputs": [
        {
          "output_type": "stream",
          "name": "stdout",
          "text": [
            "tensor(0.6931, grad_fn=<MeanBackward0>)\n"
          ]
        }
      ]
    },
    {
      "cell_type": "code",
      "source": [
        "F.binary_cross_entropy(hypothesis,y_train)"
      ],
      "metadata": {
        "colab": {
          "base_uri": "https://localhost:8080/"
        },
        "id": "liUqtQaiWluB",
        "outputId": "d3059cb5-69e1-4335-b165-550897bbea36"
      },
      "execution_count": 15,
      "outputs": [
        {
          "output_type": "execute_result",
          "data": {
            "text/plain": [
              "tensor(0.6931, grad_fn=<BinaryCrossEntropyBackward0>)"
            ]
          },
          "metadata": {},
          "execution_count": 15
        }
      ]
    },
    {
      "cell_type": "markdown",
      "source": [
        "### Whole Training Procedure"
      ],
      "metadata": {
        "id": "JsMKotUhWw3f"
      }
    },
    {
      "cell_type": "code",
      "source": [
        "# 모델 초기화\n",
        "W = torch.zeros((2,1), requires_grad=True)\n",
        "b= torch.zeros(1, requires_grad=True)\n",
        "\n",
        "# optimizer 설정\n",
        "optimizer=optim.SGD([W,b],lr=0.5)\n",
        "\n",
        "nb_epochs=10\n",
        "for epoch in range(nb_epochs+1):\n",
        "\n",
        "  # Cost 계산\n",
        "  hypothesis = torch.sigmoid(x_train.matmul(W)+b)\n",
        "  cost=F.binary_cross_entropy(hypothesis,y_train)\n",
        "\n",
        "  # Cost로 H(x) 개선\n",
        "  optimizer.zero_grad()\n",
        "  cost.backward()\n",
        "  optimizer.step()\n",
        "\n",
        "  print('Epoch {:4d}/{} Cost: {:.6f}'.format(\n",
        "      epoch, nb_epochs, cost.item())\n",
        "  )"
      ],
      "metadata": {
        "colab": {
          "base_uri": "https://localhost:8080/"
        },
        "id": "dhEcZhTfWrTQ",
        "outputId": "522fade2-323c-488a-f455-c9a031aaaad6"
      },
      "execution_count": 20,
      "outputs": [
        {
          "output_type": "stream",
          "name": "stdout",
          "text": [
            "Epoch    0/10 Cost: 0.693147\n",
            "Epoch    1/10 Cost: 0.690280\n",
            "Epoch    2/10 Cost: 0.627996\n",
            "Epoch    3/10 Cost: 0.633151\n",
            "Epoch    4/10 Cost: 0.569236\n",
            "Epoch    5/10 Cost: 0.566467\n",
            "Epoch    6/10 Cost: 0.524315\n",
            "Epoch    7/10 Cost: 0.515848\n",
            "Epoch    8/10 Cost: 0.491549\n",
            "Epoch    9/10 Cost: 0.482009\n",
            "Epoch   10/10 Cost: 0.468286\n"
          ]
        }
      ]
    },
    {
      "cell_type": "markdown",
      "source": [
        "### Evaluation"
      ],
      "metadata": {
        "id": "iri32cYlYCUn"
      }
    },
    {
      "cell_type": "code",
      "source": [
        "hypothesis = torch.sigmoid(x_train.matmul(W)+b) # x_train 대신 x_test 사용\n",
        "print(hypothesis[:5])"
      ],
      "metadata": {
        "colab": {
          "base_uri": "https://localhost:8080/"
        },
        "id": "trkcamgtXcKc",
        "outputId": "5d3d0e6d-f46f-4ee3-cecd-0e611991d94c"
      },
      "execution_count": 21,
      "outputs": [
        {
          "output_type": "stream",
          "name": "stdout",
          "text": [
            "tensor([[0.3020],\n",
            "        [0.3541],\n",
            "        [0.7288],\n",
            "        [0.6844],\n",
            "        [0.8118]], grad_fn=<SliceBackward0>)\n"
          ]
        }
      ]
    },
    {
      "cell_type": "code",
      "source": [
        "# hypothesis -> binary predictions\n",
        "prediction = hypothesis >= torch.FloatTensor([0.5])\n",
        "prediction = prediction.float()\n",
        "print(prediction[:5])"
      ],
      "metadata": {
        "colab": {
          "base_uri": "https://localhost:8080/"
        },
        "id": "-VgzFHBvYH9D",
        "outputId": "ac4e7b75-3862-493b-e1c7-a50b2d340bf2"
      },
      "execution_count": 32,
      "outputs": [
        {
          "output_type": "stream",
          "name": "stdout",
          "text": [
            "tensor([[0.],\n",
            "        [0.],\n",
            "        [1.],\n",
            "        [1.],\n",
            "        [1.]])\n"
          ]
        }
      ]
    },
    {
      "cell_type": "code",
      "source": [
        "correct_prediction=prediction.float()==y_train\n",
        "print(correct_prediction[:5])"
      ],
      "metadata": {
        "colab": {
          "base_uri": "https://localhost:8080/"
        },
        "id": "aAM3J_9sYeEx",
        "outputId": "b2cdabc9-529f-4e1a-b788-fde567a591f9"
      },
      "execution_count": 33,
      "outputs": [
        {
          "output_type": "stream",
          "name": "stdout",
          "text": [
            "tensor([[ True],\n",
            "        [ True],\n",
            "        [False],\n",
            "        [ True],\n",
            "        [ True]])\n"
          ]
        }
      ]
    },
    {
      "cell_type": "markdown",
      "source": [
        "### Higher Implementation with Class"
      ],
      "metadata": {
        "id": "GiwtRhfwZ1jS"
      }
    },
    {
      "cell_type": "code",
      "source": [
        "class BinaryClassifier(nn.Module):\n",
        "  def __init__(self):\n",
        "    super().__init__()\n",
        "    self.linear = nn.Linear(2,1)\n",
        "    self.sigmoid = nn.Sigmoid()\n",
        "\n",
        "  def forward(self,x):\n",
        "    return self.sigmoid(self.linear(x))"
      ],
      "metadata": {
        "id": "UOGdsVkXZ3fP"
      },
      "execution_count": 54,
      "outputs": []
    },
    {
      "cell_type": "code",
      "source": [
        "model=BinaryClassifier()"
      ],
      "metadata": {
        "id": "XeWmjkjWaEsq"
      },
      "execution_count": 55,
      "outputs": []
    },
    {
      "cell_type": "code",
      "source": [
        "# optimizer 설정\n",
        "optimizer=optim.SGD(model.parameters(),lr=0.1)\n",
        "\n",
        "nb_epochs=10\n",
        "for epoch in range(nb_epochs+1):\n",
        "\n",
        "  # H(x) 계산\n",
        "  hypothesis = model(x_train)\n",
        "\n",
        "  # Cost 계산\n",
        "  cost=F.binary_cross_entropy(hypothesis,y_train)\n",
        "\n",
        "  # Cost로 H(x) 개선\n",
        "  optimizer.zero_grad()\n",
        "  cost.backward()\n",
        "  optimizer.step()\n",
        "\n",
        "\n",
        "  prediction = hypothesis >= torch.FloatTensor([0.5])\n",
        "  correct_prediction = prediction.float() == y_train\n",
        "  accuracy = correct_prediction.sum().item() / len(correct_prediction)\n",
        "  print('Epoch {:4d}/{} Cost: {:.6f} Accuracy {:2.2f}%'.format(\n",
        "      epoch, nb_epochs, cost.item(),accuracy*100)\n",
        "  )"
      ],
      "metadata": {
        "colab": {
          "base_uri": "https://localhost:8080/"
        },
        "id": "_xAnpmVvaxSW",
        "outputId": "fe1e53be-39f3-42cb-ac19-bf55e4348ee2"
      },
      "execution_count": 58,
      "outputs": [
        {
          "output_type": "stream",
          "name": "stdout",
          "text": [
            "Epoch    0/10 Cost: 0.583921 Accuracy 50.00%\n",
            "Epoch    1/10 Cost: 0.540483 Accuracy 66.67%\n",
            "Epoch    2/10 Cost: 0.516122 Accuracy 66.67%\n",
            "Epoch    3/10 Cost: 0.503177 Accuracy 83.33%\n",
            "Epoch    4/10 Cost: 0.496050 Accuracy 83.33%\n",
            "Epoch    5/10 Cost: 0.491570 Accuracy 83.33%\n",
            "Epoch    6/10 Cost: 0.488227 Accuracy 83.33%\n",
            "Epoch    7/10 Cost: 0.485379 Accuracy 83.33%\n",
            "Epoch    8/10 Cost: 0.482768 Accuracy 83.33%\n",
            "Epoch    9/10 Cost: 0.480295 Accuracy 83.33%\n",
            "Epoch   10/10 Cost: 0.477920 Accuracy 83.33%\n"
          ]
        }
      ]
    }
  ]
}